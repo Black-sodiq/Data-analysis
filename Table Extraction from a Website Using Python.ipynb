{
 "cells": [
  {
   "cell_type": "markdown",
   "id": "1a557b45",
   "metadata": {},
   "source": [
    "# Project: Table Extraction from a Website Using Python"
   ]
  },
  {
   "cell_type": "markdown",
   "id": "d82b0e0a",
   "metadata": {},
   "source": [
    "## Introduction\n",
    "\n",
    "> In today's data-driven world, extracting structured information from websites is a fundamental task for various applications, including web scraping, data analysis, and automation. One common challenge involves extracting tabular data from web pages, as tables often contain valuable information presented in an organized format. Python, with its powerful libraries and tools, provides an excellent platform for tackling this challenge efficiently.\n",
    ">\n",
    "> Table extraction from websites involves parsing HTML content to identify tables and then extracting the data within them. Python offers several libraries and frameworks, such as Beautiful Soup and lxml, that simplify the process of web scraping and HTML parsing. Additionally, specialized libraries like Pandas can be used to transform the extracted data into a structured and analyzable format.\n",
    ">\n",
    ">In this project, we will explore how to leverage Python's capabilities to extract tables from web pages step-by-step. We will cover techniques for web page retrieval, HTML parsing, and data extraction. "
   ]
  },
  {
   "cell_type": "code",
   "execution_count": 1,
   "id": "c6fae290",
   "metadata": {},
   "outputs": [],
   "source": [
    "#importing all the liberies we need\n",
    "from bs4 import BeautifulSoup\n",
    "import requests\n",
    "import pandas as pd"
   ]
  },
  {
   "cell_type": "code",
   "execution_count": 2,
   "id": "d10e5ef2",
   "metadata": {},
   "outputs": [],
   "source": [
    "#parsing the url into BeautifulSoup\n",
    "url = 'https://worldathletics.org/records/toplists/sprints/100-metres/outdoor/men/senior/2023?regionType=countries&region=ngr&timing=electronic&windReading=regular&page=1&bestResultsOnly=false'\n",
    "\n",
    "page = requests.get(url)\n",
    "\n",
    "soup = BeautifulSoup(page.text, 'html')"
   ]
  },
  {
   "cell_type": "code",
   "execution_count": 3,
   "id": "1a7da3f0",
   "metadata": {},
   "outputs": [],
   "source": [
    "#finding the table using the class attribute in html\n",
    "table =  soup.find(\"table\", class_=\"records-table\")"
   ]
  },
  {
   "cell_type": "code",
   "execution_count": 4,
   "id": "fcbe9951",
   "metadata": {},
   "outputs": [],
   "source": [
    "#finding all the table headers\n",
    "mtable_titles = table.find_all('th')"
   ]
  },
  {
   "cell_type": "code",
   "execution_count": 5,
   "id": "1f5ac0f5",
   "metadata": {},
   "outputs": [
    {
     "data": {
      "text/plain": [
       "[<th>\n",
       "                                         Rank\n",
       "                                     </th>,\n",
       " <th>\n",
       "                                         Mark\n",
       "                                     </th>,\n",
       " <th>\n",
       "                                             WIND\n",
       "                                         </th>,\n",
       " <th>\n",
       "                                         Competitor\n",
       "                                     </th>,\n",
       " <th>\n",
       "                                         DOB\n",
       "                                     </th>,\n",
       " <th>\n",
       "                                         Nat\n",
       "                                     </th>,\n",
       " <th>\n",
       "                                         Pos\n",
       "                                     </th>,\n",
       " <th></th>,\n",
       " <th>\n",
       "                                         Venue\n",
       "                                     </th>,\n",
       " <th>\n",
       "                                         Date\n",
       "                                     </th>,\n",
       " <th>\n",
       "                                             Results Score\n",
       "                                         </th>]"
      ]
     },
     "execution_count": 5,
     "metadata": {},
     "output_type": "execute_result"
    }
   ],
   "source": [
    "mtable_titles"
   ]
  },
  {
   "cell_type": "code",
   "execution_count": 6,
   "id": "ac59ae34",
   "metadata": {},
   "outputs": [
    {
     "name": "stdout",
     "output_type": "stream",
     "text": [
      "['Rank', 'Mark', 'WIND', 'Competitor', 'DOB', 'Nat', 'Pos', '', 'Venue', 'Date', 'Results Score']\n"
     ]
    }
   ],
   "source": [
    "#store the table headers to a python list \n",
    "mtable_table_titles = [title.text.strip() for title in mtable_titles]\n",
    "\n",
    "print(mtable_table_titles)"
   ]
  },
  {
   "cell_type": "code",
   "execution_count": 7,
   "id": "dcf1eb45",
   "metadata": {},
   "outputs": [
    {
     "data": {
      "text/html": [
       "<div>\n",
       "<style scoped>\n",
       "    .dataframe tbody tr th:only-of-type {\n",
       "        vertical-align: middle;\n",
       "    }\n",
       "\n",
       "    .dataframe tbody tr th {\n",
       "        vertical-align: top;\n",
       "    }\n",
       "\n",
       "    .dataframe thead th {\n",
       "        text-align: right;\n",
       "    }\n",
       "</style>\n",
       "<table border=\"1\" class=\"dataframe\">\n",
       "  <thead>\n",
       "    <tr style=\"text-align: right;\">\n",
       "      <th></th>\n",
       "      <th>Rank</th>\n",
       "      <th>Mark</th>\n",
       "      <th>WIND</th>\n",
       "      <th>Competitor</th>\n",
       "      <th>DOB</th>\n",
       "      <th>Nat</th>\n",
       "      <th>Pos</th>\n",
       "      <th></th>\n",
       "      <th>Venue</th>\n",
       "      <th>Date</th>\n",
       "      <th>Results Score</th>\n",
       "    </tr>\n",
       "  </thead>\n",
       "  <tbody>\n",
       "  </tbody>\n",
       "</table>\n",
       "</div>"
      ],
      "text/plain": [
       "Empty DataFrame\n",
       "Columns: [Rank, Mark, WIND, Competitor, DOB, Nat, Pos, , Venue, Date, Results Score]\n",
       "Index: []"
      ]
     },
     "execution_count": 7,
     "metadata": {},
     "output_type": "execute_result"
    }
   ],
   "source": [
    "#coverting the saved python list into a dataframe\n",
    "df = pd.DataFrame(columns = mtable_table_titles)\n",
    "\n",
    "df"
   ]
  },
  {
   "cell_type": "code",
   "execution_count": 8,
   "id": "1a55471f",
   "metadata": {},
   "outputs": [],
   "source": [
    "#finding all rows in the table\n",
    "column_data = table.find_all('tr')"
   ]
  },
  {
   "cell_type": "code",
   "execution_count": 9,
   "id": "6034c488",
   "metadata": {},
   "outputs": [],
   "source": [
    "#iterating through the rows of the table\n",
    "for row in column_data[1:]:\n",
    "    row_data = row.find_all('td')\n",
    "    individual_row_data = [data.text.strip() for data in row_data]\n",
    "    \n",
    "    length = len(df)\n",
    "    df.loc[length] = individual_row_data"
   ]
  },
  {
   "cell_type": "code",
   "execution_count": 10,
   "id": "a1510175",
   "metadata": {},
   "outputs": [
    {
     "data": {
      "text/html": [
       "<div>\n",
       "<style scoped>\n",
       "    .dataframe tbody tr th:only-of-type {\n",
       "        vertical-align: middle;\n",
       "    }\n",
       "\n",
       "    .dataframe tbody tr th {\n",
       "        vertical-align: top;\n",
       "    }\n",
       "\n",
       "    .dataframe thead th {\n",
       "        text-align: right;\n",
       "    }\n",
       "</style>\n",
       "<table border=\"1\" class=\"dataframe\">\n",
       "  <thead>\n",
       "    <tr style=\"text-align: right;\">\n",
       "      <th></th>\n",
       "      <th>Rank</th>\n",
       "      <th>Mark</th>\n",
       "      <th>WIND</th>\n",
       "      <th>Competitor</th>\n",
       "      <th>DOB</th>\n",
       "      <th>Nat</th>\n",
       "      <th>Pos</th>\n",
       "      <th></th>\n",
       "      <th>Venue</th>\n",
       "      <th>Date</th>\n",
       "      <th>Results Score</th>\n",
       "    </tr>\n",
       "  </thead>\n",
       "  <tbody>\n",
       "    <tr>\n",
       "      <th>0</th>\n",
       "      <td>1</td>\n",
       "      <td>9.90</td>\n",
       "      <td>+1.8</td>\n",
       "      <td>Godson Oke OGHENEBRUME</td>\n",
       "      <td>27 MAY 2003</td>\n",
       "      <td>NGR</td>\n",
       "      <td>2</td>\n",
       "      <td></td>\n",
       "      <td>Mike A. Myers Stadium, Austin, TX (USA)</td>\n",
       "      <td>09 JUN 2023</td>\n",
       "      <td>1241</td>\n",
       "    </tr>\n",
       "    <tr>\n",
       "      <th>1</th>\n",
       "      <td>2</td>\n",
       "      <td>9.92</td>\n",
       "      <td>+1.4</td>\n",
       "      <td>Udodi Chudi ONWUZURIKE</td>\n",
       "      <td>29 JAN 2003</td>\n",
       "      <td>NGR</td>\n",
       "      <td>1h2</td>\n",
       "      <td></td>\n",
       "      <td>Hornet Stadium - Sac St., Sacramento, CA (USA)</td>\n",
       "      <td>26 MAY 2023</td>\n",
       "      <td>1234</td>\n",
       "    </tr>\n",
       "    <tr>\n",
       "      <th>2</th>\n",
       "      <td>3</td>\n",
       "      <td>9.93</td>\n",
       "      <td>+0.8</td>\n",
       "      <td>Godson Oke OGHENEBRUME</td>\n",
       "      <td>27 MAY 2003</td>\n",
       "      <td>NGR</td>\n",
       "      <td>1sf3</td>\n",
       "      <td></td>\n",
       "      <td>Mike A. Myers Stadium, Austin, TX (USA)</td>\n",
       "      <td>07 JUN 2023</td>\n",
       "      <td>1231</td>\n",
       "    </tr>\n",
       "    <tr>\n",
       "      <th>3</th>\n",
       "      <td>4</td>\n",
       "      <td>9.96</td>\n",
       "      <td>+1.3</td>\n",
       "      <td>Favour Oghene Tejiri ASHE</td>\n",
       "      <td>28 APR 2002</td>\n",
       "      <td>NGR</td>\n",
       "      <td>1sf2</td>\n",
       "      <td></td>\n",
       "      <td>Mike A. Myers Stadium, Austin, TX (USA)</td>\n",
       "      <td>07 JUN 2023</td>\n",
       "      <td>1220</td>\n",
       "    </tr>\n",
       "    <tr>\n",
       "      <th>4</th>\n",
       "      <td>5</td>\n",
       "      <td>9.98</td>\n",
       "      <td>+1.8</td>\n",
       "      <td>Udodi Chudi ONWUZURIKE</td>\n",
       "      <td>29 JAN 2003</td>\n",
       "      <td>NGR</td>\n",
       "      <td>6</td>\n",
       "      <td></td>\n",
       "      <td>Mike A. Myers Stadium, Austin, TX (USA)</td>\n",
       "      <td>09 JUN 2023</td>\n",
       "      <td>1213</td>\n",
       "    </tr>\n",
       "  </tbody>\n",
       "</table>\n",
       "</div>"
      ],
      "text/plain": [
       "  Rank  Mark  WIND                 Competitor          DOB  Nat   Pos    \\\n",
       "0    1  9.90  +1.8     Godson Oke OGHENEBRUME  27 MAY 2003  NGR     2     \n",
       "1    2  9.92  +1.4     Udodi Chudi ONWUZURIKE  29 JAN 2003  NGR   1h2     \n",
       "2    3  9.93  +0.8     Godson Oke OGHENEBRUME  27 MAY 2003  NGR  1sf3     \n",
       "3    4  9.96  +1.3  Favour Oghene Tejiri ASHE  28 APR 2002  NGR  1sf2     \n",
       "4    5  9.98  +1.8     Udodi Chudi ONWUZURIKE  29 JAN 2003  NGR     6     \n",
       "\n",
       "                                            Venue         Date Results Score  \n",
       "0         Mike A. Myers Stadium, Austin, TX (USA)  09 JUN 2023          1241  \n",
       "1  Hornet Stadium - Sac St., Sacramento, CA (USA)  26 MAY 2023          1234  \n",
       "2         Mike A. Myers Stadium, Austin, TX (USA)  07 JUN 2023          1231  \n",
       "3         Mike A. Myers Stadium, Austin, TX (USA)  07 JUN 2023          1220  \n",
       "4         Mike A. Myers Stadium, Austin, TX (USA)  09 JUN 2023          1213  "
      ]
     },
     "execution_count": 10,
     "metadata": {},
     "output_type": "execute_result"
    }
   ],
   "source": [
    "df.head()"
   ]
  },
  {
   "cell_type": "code",
   "execution_count": 11,
   "id": "6b2004f3",
   "metadata": {},
   "outputs": [],
   "source": [
    "#save the data into a csv file\n",
    "df.to_csv(r'C:\\Users\\sodiq.otubela\\Downloads\\python\\100m_men.csv', index = False)"
   ]
  }
 ],
 "metadata": {
  "kernelspec": {
   "display_name": "Python 3 (ipykernel)",
   "language": "python",
   "name": "python3"
  },
  "language_info": {
   "codemirror_mode": {
    "name": "ipython",
    "version": 3
   },
   "file_extension": ".py",
   "mimetype": "text/x-python",
   "name": "python",
   "nbconvert_exporter": "python",
   "pygments_lexer": "ipython3",
   "version": "3.11.4"
  }
 },
 "nbformat": 4,
 "nbformat_minor": 5
}
