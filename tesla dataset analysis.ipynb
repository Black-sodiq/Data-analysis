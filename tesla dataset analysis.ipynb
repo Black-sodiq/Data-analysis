{
 "cells": [
  {
   "cell_type": "markdown",
   "id": "c93d3adf",
   "metadata": {},
   "source": [
    "# Project: Tesla car sales dataset analysis"
   ]
  },
  {
   "cell_type": "markdown",
   "id": "83a01367",
   "metadata": {},
   "source": [
    "<a id='intro'></a>\n",
    "## Introduction\n",
    "\n",
    "> The dataset is about cars sales by Tesla Automive comapany between 2016 to 2017. This dataset contains the period of car sales, model, gross profit, country of sales and many more.\n",
    ">\n",
    "> This analysis will showcase the relationship between the dependant variables and the independant varaible.\n",
    "\n",
    "\n",
    "## Table of Contents\n",
    "<ul>\n",
    "<li><a href=\"#intro\">Introduction</a></li>\n",
    "<li><a href=\"#wrangling\">Data Wrangling</a></li>\n",
    "<li><a href=\"#eda\">Exploratory Data Analysis</a></li>\n",
    "<li><a href=\"#conclusions\">Conclusions</a></li>\n",
    "</ul>"
   ]
  },
  {
   "cell_type": "code",
   "execution_count": 1,
   "id": "ae7563bd",
   "metadata": {},
   "outputs": [],
   "source": [
    "#importing all the liberies we need\n",
    "import pandas as pd\n",
    "import numpy as np\n",
    "import matplotlib.pyplot as plt\n",
    "import seaborn as sns\n",
    "%matplotlib inline"
   ]
  },
  {
   "cell_type": "markdown",
   "id": "dfe7dfde",
   "metadata": {},
   "source": [
    "<a id='wrangling'></a>\n",
    "## Data Wrangling\n",
    "\n",
    "> Here, we load the dataset using pandas. We check the dataset size,info and for null values in the dataset.\n",
    "\n",
    "### General Properties"
   ]
  },
  {
   "cell_type": "code",
   "execution_count": 2,
   "id": "d9f35b33",
   "metadata": {},
   "outputs": [],
   "source": [
    "#using pandas to read the csv file\n",
    "tesla = pd.read_excel('tesla-sales-data.xlsx')"
   ]
  },
  {
   "cell_type": "code",
   "execution_count": 3,
   "id": "55b6843f",
   "metadata": {
    "scrolled": true
   },
   "outputs": [
    {
     "data": {
      "text/html": [
       "<div>\n",
       "<style scoped>\n",
       "    .dataframe tbody tr th:only-of-type {\n",
       "        vertical-align: middle;\n",
       "    }\n",
       "\n",
       "    .dataframe tbody tr th {\n",
       "        vertical-align: top;\n",
       "    }\n",
       "\n",
       "    .dataframe thead th {\n",
       "        text-align: right;\n",
       "    }\n",
       "</style>\n",
       "<table border=\"1\" class=\"dataframe\">\n",
       "  <thead>\n",
       "    <tr style=\"text-align: right;\">\n",
       "      <th></th>\n",
       "      <th>Unnamed: 0</th>\n",
       "      <th>Model</th>\n",
       "      <th>Period</th>\n",
       "      <th>Country</th>\n",
       "      <th>Purchase type</th>\n",
       "      <th>Version</th>\n",
       "      <th>Price</th>\n",
       "      <th>Gross Profit</th>\n",
       "    </tr>\n",
       "  </thead>\n",
       "  <tbody>\n",
       "    <tr>\n",
       "      <th>0</th>\n",
       "      <td>NaN</td>\n",
       "      <td>Model S</td>\n",
       "      <td>201601</td>\n",
       "      <td>US</td>\n",
       "      <td>Deposit</td>\n",
       "      <td>75D AWD</td>\n",
       "      <td>75700</td>\n",
       "      <td>22407.268985</td>\n",
       "    </tr>\n",
       "    <tr>\n",
       "      <th>1</th>\n",
       "      <td>NaN</td>\n",
       "      <td>Model S</td>\n",
       "      <td>201601</td>\n",
       "      <td>US</td>\n",
       "      <td>Cash purchase</td>\n",
       "      <td>75D AWD</td>\n",
       "      <td>75700</td>\n",
       "      <td>22407.268985</td>\n",
       "    </tr>\n",
       "    <tr>\n",
       "      <th>2</th>\n",
       "      <td>NaN</td>\n",
       "      <td>Model S</td>\n",
       "      <td>201601</td>\n",
       "      <td>US</td>\n",
       "      <td>Cash purchase</td>\n",
       "      <td>75 RWD</td>\n",
       "      <td>70700</td>\n",
       "      <td>20927.264428</td>\n",
       "    </tr>\n",
       "    <tr>\n",
       "      <th>3</th>\n",
       "      <td>NaN</td>\n",
       "      <td>Model S</td>\n",
       "      <td>201601</td>\n",
       "      <td>US</td>\n",
       "      <td>Cash purchase</td>\n",
       "      <td>75 RWD</td>\n",
       "      <td>70700</td>\n",
       "      <td>20927.264428</td>\n",
       "    </tr>\n",
       "    <tr>\n",
       "      <th>4</th>\n",
       "      <td>NaN</td>\n",
       "      <td>Model S</td>\n",
       "      <td>201601</td>\n",
       "      <td>US</td>\n",
       "      <td>Cash purchase</td>\n",
       "      <td>75 RWD</td>\n",
       "      <td>70700</td>\n",
       "      <td>20927.264428</td>\n",
       "    </tr>\n",
       "  </tbody>\n",
       "</table>\n",
       "</div>"
      ],
      "text/plain": [
       "   Unnamed: 0    Model  Period Country  Purchase type  Version  Price  \\\n",
       "0         NaN  Model S  201601      US        Deposit  75D AWD  75700   \n",
       "1         NaN  Model S  201601      US  Cash purchase  75D AWD  75700   \n",
       "2         NaN  Model S  201601      US  Cash purchase   75 RWD  70700   \n",
       "3         NaN  Model S  201601      US  Cash purchase   75 RWD  70700   \n",
       "4         NaN  Model S  201601      US  Cash purchase   75 RWD  70700   \n",
       "\n",
       "   Gross Profit  \n",
       "0  22407.268985  \n",
       "1  22407.268985  \n",
       "2  20927.264428  \n",
       "3  20927.264428  \n",
       "4  20927.264428  "
      ]
     },
     "execution_count": 3,
     "metadata": {},
     "output_type": "execute_result"
    }
   ],
   "source": [
    "#view first 5 row of the dataset\n",
    "tesla.head()"
   ]
  },
  {
   "cell_type": "code",
   "execution_count": 4,
   "id": "d85f056e",
   "metadata": {},
   "outputs": [
    {
     "data": {
      "text/plain": [
       "(85592, 8)"
      ]
     },
     "execution_count": 4,
     "metadata": {},
     "output_type": "execute_result"
    }
   ],
   "source": [
    "tesla.shape"
   ]
  },
  {
   "cell_type": "code",
   "execution_count": 5,
   "id": "28a93767",
   "metadata": {},
   "outputs": [
    {
     "name": "stdout",
     "output_type": "stream",
     "text": [
      "<class 'pandas.core.frame.DataFrame'>\n",
      "RangeIndex: 85592 entries, 0 to 85591\n",
      "Data columns (total 8 columns):\n",
      " #   Column         Non-Null Count  Dtype  \n",
      "---  ------         --------------  -----  \n",
      " 0   Unnamed: 0     0 non-null      float64\n",
      " 1   Model          85592 non-null  object \n",
      " 2   Period         85592 non-null  int64  \n",
      " 3   Country        85592 non-null  object \n",
      " 4   Purchase type  85592 non-null  object \n",
      " 5   Version        85592 non-null  object \n",
      " 6   Price          85592 non-null  int64  \n",
      " 7   Gross Profit   85592 non-null  float64\n",
      "dtypes: float64(2), int64(2), object(4)\n",
      "memory usage: 5.2+ MB\n"
     ]
    }
   ],
   "source": [
    "#checking for null values in each coumns with the data types\n",
    "tesla.info()"
   ]
  },
  {
   "cell_type": "code",
   "execution_count": 6,
   "id": "487eabbb",
   "metadata": {},
   "outputs": [
    {
     "data": {
      "text/html": [
       "<div>\n",
       "<style scoped>\n",
       "    .dataframe tbody tr th:only-of-type {\n",
       "        vertical-align: middle;\n",
       "    }\n",
       "\n",
       "    .dataframe tbody tr th {\n",
       "        vertical-align: top;\n",
       "    }\n",
       "\n",
       "    .dataframe thead th {\n",
       "        text-align: right;\n",
       "    }\n",
       "</style>\n",
       "<table border=\"1\" class=\"dataframe\">\n",
       "  <thead>\n",
       "    <tr style=\"text-align: right;\">\n",
       "      <th></th>\n",
       "      <th>Unnamed: 0</th>\n",
       "      <th>Period</th>\n",
       "      <th>Price</th>\n",
       "      <th>Gross Profit</th>\n",
       "    </tr>\n",
       "  </thead>\n",
       "  <tbody>\n",
       "    <tr>\n",
       "      <th>count</th>\n",
       "      <td>0.0</td>\n",
       "      <td>85592.000000</td>\n",
       "      <td>85592.000000</td>\n",
       "      <td>85592.000000</td>\n",
       "    </tr>\n",
       "    <tr>\n",
       "      <th>mean</th>\n",
       "      <td>NaN</td>\n",
       "      <td>201655.958734</td>\n",
       "      <td>75253.148659</td>\n",
       "      <td>21945.504208</td>\n",
       "    </tr>\n",
       "    <tr>\n",
       "      <th>std</th>\n",
       "      <td>NaN</td>\n",
       "      <td>50.068457</td>\n",
       "      <td>4199.494954</td>\n",
       "      <td>10328.412329</td>\n",
       "    </tr>\n",
       "    <tr>\n",
       "      <th>min</th>\n",
       "      <td>NaN</td>\n",
       "      <td>201601.000000</td>\n",
       "      <td>70700.000000</td>\n",
       "      <td>7178.567774</td>\n",
       "    </tr>\n",
       "    <tr>\n",
       "      <th>25%</th>\n",
       "      <td>NaN</td>\n",
       "      <td>201606.000000</td>\n",
       "      <td>74000.000000</td>\n",
       "      <td>13305.311576</td>\n",
       "    </tr>\n",
       "    <tr>\n",
       "      <th>50%</th>\n",
       "      <td>NaN</td>\n",
       "      <td>201612.000000</td>\n",
       "      <td>74000.000000</td>\n",
       "      <td>21083.195661</td>\n",
       "    </tr>\n",
       "    <tr>\n",
       "      <th>75%</th>\n",
       "      <td>NaN</td>\n",
       "      <td>201706.000000</td>\n",
       "      <td>75700.000000</td>\n",
       "      <td>25497.234748</td>\n",
       "    </tr>\n",
       "    <tr>\n",
       "      <th>max</th>\n",
       "      <td>NaN</td>\n",
       "      <td>201712.000000</td>\n",
       "      <td>88700.000000</td>\n",
       "      <td>54371.510702</td>\n",
       "    </tr>\n",
       "  </tbody>\n",
       "</table>\n",
       "</div>"
      ],
      "text/plain": [
       "       Unnamed: 0         Period         Price  Gross Profit\n",
       "count         0.0   85592.000000  85592.000000  85592.000000\n",
       "mean          NaN  201655.958734  75253.148659  21945.504208\n",
       "std           NaN      50.068457   4199.494954  10328.412329\n",
       "min           NaN  201601.000000  70700.000000   7178.567774\n",
       "25%           NaN  201606.000000  74000.000000  13305.311576\n",
       "50%           NaN  201612.000000  74000.000000  21083.195661\n",
       "75%           NaN  201706.000000  75700.000000  25497.234748\n",
       "max           NaN  201712.000000  88700.000000  54371.510702"
      ]
     },
     "execution_count": 6,
     "metadata": {},
     "output_type": "execute_result"
    }
   ],
   "source": [
    "tesla.describe()"
   ]
  },
  {
   "cell_type": "markdown",
   "id": "426a2721",
   "metadata": {},
   "source": [
    "> the .describe() gives us the first analysis breakdown of our data. we can get the count,mean, max and so on with it."
   ]
  },
  {
   "cell_type": "markdown",
   "id": "3e25afee",
   "metadata": {},
   "source": [
    "## Data Wrangling\n",
    ">Here, we split column period to year and month. \n",
    ">\n",
    ">Renaming some columns.\n",
    ">\n",
    ">Deleting columns not useful for this project"
   ]
  },
  {
   "cell_type": "code",
   "execution_count": 7,
   "id": "6e6f61d9",
   "metadata": {},
   "outputs": [],
   "source": [
    "#splitting the period column to year and month\n",
    "split_Year, split_Month = [],[]\n",
    "for i, row in tesla.iterrows():\n",
    "    split_Year.append(int(int(tesla['Period'][i])/100))\n",
    "    split_Month.append(round(tesla['Period'][i]-split_Year[i]*100, 5))\n",
    "tesla.insert(0,'Year',split_Year, True)\n",
    "tesla['Month'] = split_Month"
   ]
  },
  {
   "cell_type": "code",
   "execution_count": 8,
   "id": "779ac22a",
   "metadata": {},
   "outputs": [
    {
     "data": {
      "text/html": [
       "<div>\n",
       "<style scoped>\n",
       "    .dataframe tbody tr th:only-of-type {\n",
       "        vertical-align: middle;\n",
       "    }\n",
       "\n",
       "    .dataframe tbody tr th {\n",
       "        vertical-align: top;\n",
       "    }\n",
       "\n",
       "    .dataframe thead th {\n",
       "        text-align: right;\n",
       "    }\n",
       "</style>\n",
       "<table border=\"1\" class=\"dataframe\">\n",
       "  <thead>\n",
       "    <tr style=\"text-align: right;\">\n",
       "      <th></th>\n",
       "      <th>Year</th>\n",
       "      <th>Unnamed: 0</th>\n",
       "      <th>Model</th>\n",
       "      <th>Period</th>\n",
       "      <th>Country</th>\n",
       "      <th>Purchase type</th>\n",
       "      <th>Version</th>\n",
       "      <th>Price</th>\n",
       "      <th>Gross Profit</th>\n",
       "      <th>Month</th>\n",
       "    </tr>\n",
       "  </thead>\n",
       "  <tbody>\n",
       "    <tr>\n",
       "      <th>0</th>\n",
       "      <td>2016</td>\n",
       "      <td>NaN</td>\n",
       "      <td>Model S</td>\n",
       "      <td>201601</td>\n",
       "      <td>US</td>\n",
       "      <td>Deposit</td>\n",
       "      <td>75D AWD</td>\n",
       "      <td>75700</td>\n",
       "      <td>22407.268985</td>\n",
       "      <td>1</td>\n",
       "    </tr>\n",
       "    <tr>\n",
       "      <th>1</th>\n",
       "      <td>2016</td>\n",
       "      <td>NaN</td>\n",
       "      <td>Model S</td>\n",
       "      <td>201601</td>\n",
       "      <td>US</td>\n",
       "      <td>Cash purchase</td>\n",
       "      <td>75D AWD</td>\n",
       "      <td>75700</td>\n",
       "      <td>22407.268985</td>\n",
       "      <td>1</td>\n",
       "    </tr>\n",
       "    <tr>\n",
       "      <th>2</th>\n",
       "      <td>2016</td>\n",
       "      <td>NaN</td>\n",
       "      <td>Model S</td>\n",
       "      <td>201601</td>\n",
       "      <td>US</td>\n",
       "      <td>Cash purchase</td>\n",
       "      <td>75 RWD</td>\n",
       "      <td>70700</td>\n",
       "      <td>20927.264428</td>\n",
       "      <td>1</td>\n",
       "    </tr>\n",
       "    <tr>\n",
       "      <th>3</th>\n",
       "      <td>2016</td>\n",
       "      <td>NaN</td>\n",
       "      <td>Model S</td>\n",
       "      <td>201601</td>\n",
       "      <td>US</td>\n",
       "      <td>Cash purchase</td>\n",
       "      <td>75 RWD</td>\n",
       "      <td>70700</td>\n",
       "      <td>20927.264428</td>\n",
       "      <td>1</td>\n",
       "    </tr>\n",
       "    <tr>\n",
       "      <th>4</th>\n",
       "      <td>2016</td>\n",
       "      <td>NaN</td>\n",
       "      <td>Model S</td>\n",
       "      <td>201601</td>\n",
       "      <td>US</td>\n",
       "      <td>Cash purchase</td>\n",
       "      <td>75 RWD</td>\n",
       "      <td>70700</td>\n",
       "      <td>20927.264428</td>\n",
       "      <td>1</td>\n",
       "    </tr>\n",
       "  </tbody>\n",
       "</table>\n",
       "</div>"
      ],
      "text/plain": [
       "   Year  Unnamed: 0    Model  Period Country  Purchase type  Version  Price  \\\n",
       "0  2016         NaN  Model S  201601      US        Deposit  75D AWD  75700   \n",
       "1  2016         NaN  Model S  201601      US  Cash purchase  75D AWD  75700   \n",
       "2  2016         NaN  Model S  201601      US  Cash purchase   75 RWD  70700   \n",
       "3  2016         NaN  Model S  201601      US  Cash purchase   75 RWD  70700   \n",
       "4  2016         NaN  Model S  201601      US  Cash purchase   75 RWD  70700   \n",
       "\n",
       "   Gross Profit  Month  \n",
       "0  22407.268985      1  \n",
       "1  22407.268985      1  \n",
       "2  20927.264428      1  \n",
       "3  20927.264428      1  \n",
       "4  20927.264428      1  "
      ]
     },
     "execution_count": 8,
     "metadata": {},
     "output_type": "execute_result"
    }
   ],
   "source": [
    "#chechking if our splitting worked\n",
    "tesla.head()"
   ]
  },
  {
   "cell_type": "code",
   "execution_count": 9,
   "id": "3d1eaedd",
   "metadata": {},
   "outputs": [],
   "source": [
    "#renaming columns\n",
    "tesla.rename(columns = {'Purchase type':'Purchase_type','Gross Profit':'Gross_Profit'}, inplace = True)"
   ]
  },
  {
   "cell_type": "code",
   "execution_count": 10,
   "id": "13597194",
   "metadata": {},
   "outputs": [
    {
     "data": {
      "text/html": [
       "<div>\n",
       "<style scoped>\n",
       "    .dataframe tbody tr th:only-of-type {\n",
       "        vertical-align: middle;\n",
       "    }\n",
       "\n",
       "    .dataframe tbody tr th {\n",
       "        vertical-align: top;\n",
       "    }\n",
       "\n",
       "    .dataframe thead th {\n",
       "        text-align: right;\n",
       "    }\n",
       "</style>\n",
       "<table border=\"1\" class=\"dataframe\">\n",
       "  <thead>\n",
       "    <tr style=\"text-align: right;\">\n",
       "      <th></th>\n",
       "      <th>Year</th>\n",
       "      <th>Unnamed: 0</th>\n",
       "      <th>Model</th>\n",
       "      <th>Period</th>\n",
       "      <th>Country</th>\n",
       "      <th>Purchase_type</th>\n",
       "      <th>Version</th>\n",
       "      <th>Price</th>\n",
       "      <th>Gross_Profit</th>\n",
       "      <th>Month</th>\n",
       "    </tr>\n",
       "  </thead>\n",
       "  <tbody>\n",
       "    <tr>\n",
       "      <th>0</th>\n",
       "      <td>2016</td>\n",
       "      <td>NaN</td>\n",
       "      <td>Model S</td>\n",
       "      <td>201601</td>\n",
       "      <td>US</td>\n",
       "      <td>Deposit</td>\n",
       "      <td>75D AWD</td>\n",
       "      <td>75700</td>\n",
       "      <td>22407.268985</td>\n",
       "      <td>1</td>\n",
       "    </tr>\n",
       "    <tr>\n",
       "      <th>1</th>\n",
       "      <td>2016</td>\n",
       "      <td>NaN</td>\n",
       "      <td>Model S</td>\n",
       "      <td>201601</td>\n",
       "      <td>US</td>\n",
       "      <td>Cash purchase</td>\n",
       "      <td>75D AWD</td>\n",
       "      <td>75700</td>\n",
       "      <td>22407.268985</td>\n",
       "      <td>1</td>\n",
       "    </tr>\n",
       "    <tr>\n",
       "      <th>2</th>\n",
       "      <td>2016</td>\n",
       "      <td>NaN</td>\n",
       "      <td>Model S</td>\n",
       "      <td>201601</td>\n",
       "      <td>US</td>\n",
       "      <td>Cash purchase</td>\n",
       "      <td>75 RWD</td>\n",
       "      <td>70700</td>\n",
       "      <td>20927.264428</td>\n",
       "      <td>1</td>\n",
       "    </tr>\n",
       "    <tr>\n",
       "      <th>3</th>\n",
       "      <td>2016</td>\n",
       "      <td>NaN</td>\n",
       "      <td>Model S</td>\n",
       "      <td>201601</td>\n",
       "      <td>US</td>\n",
       "      <td>Cash purchase</td>\n",
       "      <td>75 RWD</td>\n",
       "      <td>70700</td>\n",
       "      <td>20927.264428</td>\n",
       "      <td>1</td>\n",
       "    </tr>\n",
       "    <tr>\n",
       "      <th>4</th>\n",
       "      <td>2016</td>\n",
       "      <td>NaN</td>\n",
       "      <td>Model S</td>\n",
       "      <td>201601</td>\n",
       "      <td>US</td>\n",
       "      <td>Cash purchase</td>\n",
       "      <td>75 RWD</td>\n",
       "      <td>70700</td>\n",
       "      <td>20927.264428</td>\n",
       "      <td>1</td>\n",
       "    </tr>\n",
       "  </tbody>\n",
       "</table>\n",
       "</div>"
      ],
      "text/plain": [
       "   Year  Unnamed: 0    Model  Period Country  Purchase_type  Version  Price  \\\n",
       "0  2016         NaN  Model S  201601      US        Deposit  75D AWD  75700   \n",
       "1  2016         NaN  Model S  201601      US  Cash purchase  75D AWD  75700   \n",
       "2  2016         NaN  Model S  201601      US  Cash purchase   75 RWD  70700   \n",
       "3  2016         NaN  Model S  201601      US  Cash purchase   75 RWD  70700   \n",
       "4  2016         NaN  Model S  201601      US  Cash purchase   75 RWD  70700   \n",
       "\n",
       "   Gross_Profit  Month  \n",
       "0  22407.268985      1  \n",
       "1  22407.268985      1  \n",
       "2  20927.264428      1  \n",
       "3  20927.264428      1  \n",
       "4  20927.264428      1  "
      ]
     },
     "execution_count": 10,
     "metadata": {},
     "output_type": "execute_result"
    }
   ],
   "source": [
    "tesla.head()"
   ]
  },
  {
   "cell_type": "code",
   "execution_count": 11,
   "id": "2f796c70",
   "metadata": {
    "scrolled": true
   },
   "outputs": [
    {
     "data": {
      "text/html": [
       "<div>\n",
       "<style scoped>\n",
       "    .dataframe tbody tr th:only-of-type {\n",
       "        vertical-align: middle;\n",
       "    }\n",
       "\n",
       "    .dataframe tbody tr th {\n",
       "        vertical-align: top;\n",
       "    }\n",
       "\n",
       "    .dataframe thead th {\n",
       "        text-align: right;\n",
       "    }\n",
       "</style>\n",
       "<table border=\"1\" class=\"dataframe\">\n",
       "  <thead>\n",
       "    <tr style=\"text-align: right;\">\n",
       "      <th></th>\n",
       "      <th>Year</th>\n",
       "      <th>Model</th>\n",
       "      <th>Country</th>\n",
       "      <th>Purchase_type</th>\n",
       "      <th>Version</th>\n",
       "      <th>Price</th>\n",
       "      <th>Gross_Profit</th>\n",
       "      <th>Month</th>\n",
       "    </tr>\n",
       "  </thead>\n",
       "  <tbody>\n",
       "    <tr>\n",
       "      <th>0</th>\n",
       "      <td>2016</td>\n",
       "      <td>Model S</td>\n",
       "      <td>US</td>\n",
       "      <td>Deposit</td>\n",
       "      <td>75D AWD</td>\n",
       "      <td>75700</td>\n",
       "      <td>22407.268985</td>\n",
       "      <td>1</td>\n",
       "    </tr>\n",
       "    <tr>\n",
       "      <th>1</th>\n",
       "      <td>2016</td>\n",
       "      <td>Model S</td>\n",
       "      <td>US</td>\n",
       "      <td>Cash purchase</td>\n",
       "      <td>75D AWD</td>\n",
       "      <td>75700</td>\n",
       "      <td>22407.268985</td>\n",
       "      <td>1</td>\n",
       "    </tr>\n",
       "    <tr>\n",
       "      <th>2</th>\n",
       "      <td>2016</td>\n",
       "      <td>Model S</td>\n",
       "      <td>US</td>\n",
       "      <td>Cash purchase</td>\n",
       "      <td>75 RWD</td>\n",
       "      <td>70700</td>\n",
       "      <td>20927.264428</td>\n",
       "      <td>1</td>\n",
       "    </tr>\n",
       "    <tr>\n",
       "      <th>3</th>\n",
       "      <td>2016</td>\n",
       "      <td>Model S</td>\n",
       "      <td>US</td>\n",
       "      <td>Cash purchase</td>\n",
       "      <td>75 RWD</td>\n",
       "      <td>70700</td>\n",
       "      <td>20927.264428</td>\n",
       "      <td>1</td>\n",
       "    </tr>\n",
       "    <tr>\n",
       "      <th>4</th>\n",
       "      <td>2016</td>\n",
       "      <td>Model S</td>\n",
       "      <td>US</td>\n",
       "      <td>Cash purchase</td>\n",
       "      <td>75 RWD</td>\n",
       "      <td>70700</td>\n",
       "      <td>20927.264428</td>\n",
       "      <td>1</td>\n",
       "    </tr>\n",
       "  </tbody>\n",
       "</table>\n",
       "</div>"
      ],
      "text/plain": [
       "   Year    Model Country  Purchase_type  Version  Price  Gross_Profit  Month\n",
       "0  2016  Model S      US        Deposit  75D AWD  75700  22407.268985      1\n",
       "1  2016  Model S      US  Cash purchase  75D AWD  75700  22407.268985      1\n",
       "2  2016  Model S      US  Cash purchase   75 RWD  70700  20927.264428      1\n",
       "3  2016  Model S      US  Cash purchase   75 RWD  70700  20927.264428      1\n",
       "4  2016  Model S      US  Cash purchase   75 RWD  70700  20927.264428      1"
      ]
     },
     "execution_count": 11,
     "metadata": {},
     "output_type": "execute_result"
    }
   ],
   "source": [
    "#deleting columns not useful\n",
    "tesla.drop([\"Unnamed: 0\", \"Period\"], axis=1, inplace=True)\n",
    "tesla.head()"
   ]
  },
  {
   "cell_type": "code",
   "execution_count": 12,
   "id": "b77f8af2",
   "metadata": {},
   "outputs": [
    {
     "data": {
      "text/plain": [
       "(85592, 8)"
      ]
     },
     "execution_count": 12,
     "metadata": {},
     "output_type": "execute_result"
    }
   ],
   "source": [
    "tesla.shape"
   ]
  },
  {
   "cell_type": "markdown",
   "id": "21f759cb",
   "metadata": {},
   "source": [
    "<a id='eda'></a>\n",
    "## Exploratory Data Analysis\n",
    "\n",
    "> Check the value count for some independent variables.\n",
    ">\n",
    ">Compare some dependant varaibles with the independant varaible.\n"
   ]
  },
  {
   "cell_type": "code",
   "execution_count": 13,
   "id": "ddeafac1",
   "metadata": {},
   "outputs": [
    {
     "data": {
      "text/plain": [
       "2"
      ]
     },
     "execution_count": 13,
     "metadata": {},
     "output_type": "execute_result"
    }
   ],
   "source": [
    "#number of unique car model \n",
    "tesla['Model'].nunique()"
   ]
  },
  {
   "cell_type": "code",
   "execution_count": 14,
   "id": "5c96355e",
   "metadata": {},
   "outputs": [
    {
     "data": {
      "text/plain": [
       "array(['Model S', 'Model X'], dtype=object)"
      ]
     },
     "execution_count": 14,
     "metadata": {},
     "output_type": "execute_result"
    }
   ],
   "source": [
    "tesla['Model'].unique()"
   ]
  },
  {
   "cell_type": "code",
   "execution_count": 15,
   "id": "341cdc18",
   "metadata": {},
   "outputs": [
    {
     "data": {
      "text/plain": [
       "3"
      ]
     },
     "execution_count": 15,
     "metadata": {},
     "output_type": "execute_result"
    }
   ],
   "source": [
    "#number of unique countries \n",
    "tesla['Country'].nunique()"
   ]
  },
  {
   "cell_type": "code",
   "execution_count": 16,
   "id": "64e077a3",
   "metadata": {},
   "outputs": [
    {
     "data": {
      "text/plain": [
       "array(['US', 'Germany', 'Australia'], dtype=object)"
      ]
     },
     "execution_count": 16,
     "metadata": {},
     "output_type": "execute_result"
    }
   ],
   "source": [
    "tesla['Country'].unique()"
   ]
  },
  {
   "cell_type": "code",
   "execution_count": 17,
   "id": "be08be4c",
   "metadata": {},
   "outputs": [
    {
     "data": {
      "text/plain": [
       "2"
      ]
     },
     "execution_count": 17,
     "metadata": {},
     "output_type": "execute_result"
    }
   ],
   "source": [
    "#number method of payment\n",
    "tesla['Purchase_type'].nunique()"
   ]
  },
  {
   "cell_type": "code",
   "execution_count": 18,
   "id": "437c6beb",
   "metadata": {},
   "outputs": [
    {
     "data": {
      "text/plain": [
       "array(['Deposit', 'Cash purchase'], dtype=object)"
      ]
     },
     "execution_count": 18,
     "metadata": {},
     "output_type": "execute_result"
    }
   ],
   "source": [
    "tesla['Purchase_type'].unique()"
   ]
  },
  {
   "cell_type": "code",
   "execution_count": 19,
   "id": "116b338a",
   "metadata": {},
   "outputs": [
    {
     "data": {
      "text/plain": [
       "6"
      ]
     },
     "execution_count": 19,
     "metadata": {},
     "output_type": "execute_result"
    }
   ],
   "source": [
    "#number of model version sold \n",
    "tesla['Version'].nunique()"
   ]
  },
  {
   "cell_type": "code",
   "execution_count": 20,
   "id": "193c0d98",
   "metadata": {},
   "outputs": [
    {
     "data": {
      "text/plain": [
       "array(['75D AWD', '75 RWD', '90D AWD', '60D AWD', '90D', 'P90D'],\n",
       "      dtype=object)"
      ]
     },
     "execution_count": 20,
     "metadata": {},
     "output_type": "execute_result"
    }
   ],
   "source": [
    "tesla['Version'].unique()"
   ]
  },
  {
   "cell_type": "code",
   "execution_count": 21,
   "id": "bbb7d758",
   "metadata": {},
   "outputs": [
    {
     "data": {
      "text/plain": [
       "Model X    46967\n",
       "Model S    38625\n",
       "Name: Model, dtype: int64"
      ]
     },
     "execution_count": 21,
     "metadata": {},
     "output_type": "execute_result"
    }
   ],
   "source": [
    "#number of model sold \n",
    "tesla.Model.value_counts()"
   ]
  },
  {
   "cell_type": "code",
   "execution_count": 22,
   "id": "b2dab10a",
   "metadata": {},
   "outputs": [
    {
     "data": {
      "text/plain": [
       "2016    43250\n",
       "2017    42342\n",
       "Name: Year, dtype: int64"
      ]
     },
     "execution_count": 22,
     "metadata": {},
     "output_type": "execute_result"
    }
   ],
   "source": [
    "#most year with most cars sold\n",
    "tesla.Year.value_counts()"
   ]
  },
  {
   "cell_type": "code",
   "execution_count": 23,
   "id": "850943cf",
   "metadata": {},
   "outputs": [
    {
     "data": {
      "text/plain": [
       "US           63469\n",
       "Germany      16956\n",
       "Australia     5167\n",
       "Name: Country, dtype: int64"
      ]
     },
     "execution_count": 23,
     "metadata": {},
     "output_type": "execute_result"
    }
   ],
   "source": [
    "#country with the highest cars sold\n",
    "tesla.Country.value_counts()"
   ]
  },
  {
   "cell_type": "code",
   "execution_count": 24,
   "id": "c947b0c6",
   "metadata": {},
   "outputs": [
    {
     "data": {
      "text/plain": [
       "Deposit          45976\n",
       "Cash purchase    39616\n",
       "Name: Purchase_type, dtype: int64"
      ]
     },
     "execution_count": 24,
     "metadata": {},
     "output_type": "execute_result"
    }
   ],
   "source": [
    "#most common method of payment\n",
    "tesla[\"Purchase_type\"].value_counts()"
   ]
  },
  {
   "cell_type": "code",
   "execution_count": 25,
   "id": "9c1c6c0f",
   "metadata": {
    "scrolled": true
   },
   "outputs": [
    {
     "data": {
      "text/plain": [
       "P90D       33655\n",
       "75 RWD     16492\n",
       "90D        13312\n",
       "60D AWD     9032\n",
       "75D AWD     8660\n",
       "90D AWD     4441\n",
       "Name: Version, dtype: int64"
      ]
     },
     "execution_count": 25,
     "metadata": {},
     "output_type": "execute_result"
    }
   ],
   "source": [
    "#most version of cars sold\n",
    "tesla.Version.value_counts()"
   ]
  },
  {
   "cell_type": "code",
   "execution_count": 26,
   "id": "dbacd0c0",
   "metadata": {},
   "outputs": [
    {
     "data": {
      "text/plain": [
       "Model    Version\n",
       "Model X  P90D       33655\n",
       "Model S  75 RWD     16492\n",
       "Model X  90D        13312\n",
       "Model S  60D AWD     9032\n",
       "         75D AWD     8660\n",
       "         90D AWD     4441\n",
       "dtype: int64"
      ]
     },
     "execution_count": 26,
     "metadata": {},
     "output_type": "execute_result"
    }
   ],
   "source": [
    "#most model and version of cars sold\n",
    "tesla[[\"Model\", \"Version\"]].value_counts()"
   ]
  },
  {
   "cell_type": "code",
   "execution_count": 27,
   "id": "14e2e5ba",
   "metadata": {},
   "outputs": [
    {
     "data": {
      "text/plain": [
       "Model    Country  \n",
       "Model X  US           34791\n",
       "Model S  US           28678\n",
       "Model X  Germany       9436\n",
       "Model S  Germany       7520\n",
       "Model X  Australia     2740\n",
       "Model S  Australia     2427\n",
       "dtype: int64"
      ]
     },
     "execution_count": 27,
     "metadata": {},
     "output_type": "execute_result"
    }
   ],
   "source": [
    "#most model sold by country\n",
    "tesla[[\"Model\", \"Country\"]].value_counts()"
   ]
  },
  {
   "cell_type": "code",
   "execution_count": 28,
   "id": "538e37ce",
   "metadata": {},
   "outputs": [
    {
     "data": {
      "text/plain": [
       "Model    Year\n",
       "Model X  2016    23902\n",
       "         2017    23065\n",
       "Model S  2016    19348\n",
       "         2017    19277\n",
       "dtype: int64"
      ]
     },
     "execution_count": 28,
     "metadata": {},
     "output_type": "execute_result"
    }
   ],
   "source": [
    "#which year most model was sold?\n",
    "tesla[[\"Model\", \"Year\"]].value_counts()"
   ]
  },
  {
   "cell_type": "code",
   "execution_count": 29,
   "id": "02c8f35c",
   "metadata": {},
   "outputs": [
    {
     "data": {
      "text/plain": [
       "Purchase_type  Country  \n",
       "Deposit        US           34681\n",
       "Cash purchase  US           28788\n",
       "Deposit        Germany       8604\n",
       "Cash purchase  Germany       8352\n",
       "Deposit        Australia     2691\n",
       "Cash purchase  Australia     2476\n",
       "dtype: int64"
      ]
     },
     "execution_count": 29,
     "metadata": {},
     "output_type": "execute_result"
    }
   ],
   "source": [
    "#best payment method by each contries\n",
    "tesla[[\"Purchase_type\", \"Country\"]].value_counts()"
   ]
  },
  {
   "cell_type": "code",
   "execution_count": 30,
   "id": "b3a87356",
   "metadata": {
    "scrolled": true
   },
   "outputs": [
    {
     "data": {
      "text/plain": [
       "Model\n",
       "Model S    22273.719954\n",
       "Model X    21904.067435\n",
       "dtype: float64"
      ]
     },
     "execution_count": 30,
     "metadata": {},
     "output_type": "execute_result"
    }
   ],
   "source": [
    "tesla.groupby('Model').apply(lambda x: x['Gross_Profit'].value_counts().idxmax())"
   ]
  },
  {
   "cell_type": "code",
   "execution_count": 31,
   "id": "500d3da1",
   "metadata": {},
   "outputs": [
    {
     "data": {
      "text/plain": [
       "Year\n",
       "2016    9.494136e+08\n",
       "2017    9.289460e+08\n",
       "Name: Gross_Profit, dtype: float64"
      ]
     },
     "execution_count": 31,
     "metadata": {},
     "output_type": "execute_result"
    }
   ],
   "source": [
    "#year with the most sales\n",
    "tesla.groupby('Year').sum().Gross_Profit"
   ]
  },
  {
   "cell_type": "code",
   "execution_count": 32,
   "id": "b243e10c",
   "metadata": {
    "scrolled": true
   },
   "outputs": [
    {
     "data": {
      "text/plain": [
       "Country\n",
       "Australia    8.035623e+07\n",
       "Germany      2.742770e+08\n",
       "US           1.523726e+09\n",
       "Name: Gross_Profit, dtype: float64"
      ]
     },
     "execution_count": 32,
     "metadata": {},
     "output_type": "execute_result"
    }
   ],
   "source": [
    "#country with the most sales\n",
    "tesla.groupby('Country').sum().Gross_Profit"
   ]
  },
  {
   "cell_type": "code",
   "execution_count": 33,
   "id": "624267cd",
   "metadata": {},
   "outputs": [
    {
     "data": {
      "text/plain": [
       "Model\n",
       "Model S    8.387993e+08\n",
       "Model X    1.039560e+09\n",
       "Name: Gross_Profit, dtype: float64"
      ]
     },
     "execution_count": 33,
     "metadata": {},
     "output_type": "execute_result"
    }
   ],
   "source": [
    "#which model had most profit?\n",
    "tesla.groupby('Model').sum().Gross_Profit"
   ]
  },
  {
   "cell_type": "code",
   "execution_count": 34,
   "id": "7bef1c93",
   "metadata": {},
   "outputs": [
    {
     "data": {
      "text/plain": [
       "Purchase_type\n",
       "Cash purchase    8.625173e+08\n",
       "Deposit          1.015842e+09\n",
       "Name: Gross_Profit, dtype: float64"
      ]
     },
     "execution_count": 34,
     "metadata": {},
     "output_type": "execute_result"
    }
   ],
   "source": [
    "#most sales made using which method of payment?\n",
    "tesla.groupby('Purchase_type').sum().Gross_Profit"
   ]
  },
  {
   "cell_type": "code",
   "execution_count": 35,
   "id": "a4859804",
   "metadata": {
    "scrolled": true
   },
   "outputs": [
    {
     "data": {
      "text/plain": [
       "Model\n",
       "Model S    7197.969308\n",
       "Model X    7178.567774\n",
       "Name: Gross_Profit, dtype: float64"
      ]
     },
     "execution_count": 35,
     "metadata": {},
     "output_type": "execute_result"
    }
   ],
   "source": [
    "#minimum unit price of model\n",
    "tesla.groupby('Model').min().Gross_Profit"
   ]
  },
  {
   "cell_type": "code",
   "execution_count": 36,
   "id": "133860cd",
   "metadata": {},
   "outputs": [
    {
     "data": {
      "text/plain": [
       "Model\n",
       "Model S    54371.510702\n",
       "Model X    49038.566586\n",
       "Name: Gross_Profit, dtype: float64"
      ]
     },
     "execution_count": 36,
     "metadata": {},
     "output_type": "execute_result"
    }
   ],
   "source": [
    "#maximum unit price of model\n",
    "tesla.groupby('Model').max().Gross_Profit"
   ]
  },
  {
   "cell_type": "code",
   "execution_count": 37,
   "id": "34c1285a",
   "metadata": {},
   "outputs": [
    {
     "data": {
      "text/plain": [
       "Text(0.5, 1.0, 'Tesla Model sold')"
      ]
     },
     "execution_count": 37,
     "metadata": {},
     "output_type": "execute_result"
    },
    {
     "data": {
      "image/png": "[encoded data removed]",
      "text/plain": [
       "<Figure size 600x500 with 1 Axes>"
      ]
     },
     "metadata": {},
     "output_type": "display_data"
    }
   ],
   "source": [
    "#visualization on most model sold\n",
    "tesla['Model'].value_counts().plot(kind='bar', color='green',figsize=(6,5)) \n",
    "plt.title('Tesla Model sold')"
   ]
  },
  {
   "cell_type": "code",
   "execution_count": 38,
   "id": "39922ba2",
   "metadata": {},
   "outputs": [
    {
     "data": {
      "text/plain": [
       "Text(0.5, 1.0, 'Country most tesla was sold')"
      ]
     },
     "execution_count": 38,
     "metadata": {},
     "output_type": "execute_result"
    },
    {
     "data": {
      "image/png": "[encoded data removed]",
      "text/plain": [
       "<Figure size 600x400 with 1 Axes>"
      ]
     },
     "metadata": {},
     "output_type": "display_data"
    }
   ],
   "source": [
    "#graphical representaion of most cars sold by country\n",
    "tesla['Country'].value_counts().plot(kind='bar', color='red', figsize=(6,4))\n",
    "plt.title('Country most tesla was sold')"
   ]
  },
  {
   "cell_type": "code",
   "execution_count": 39,
   "id": "08f24924",
   "metadata": {
    "scrolled": false
   },
   "outputs": [
    {
     "data": {
      "text/plain": [
       "Text(0.5, 1.0, 'Method of payment')"
      ]
     },
     "execution_count": 39,
     "metadata": {},
     "output_type": "execute_result"
    },
    {
     "data": {
      "image/png": "[encoded data removed]",
      "text/plain": [
       "<Figure size 600x400 with 1 Axes>"
      ]
     },
     "metadata": {},
     "output_type": "display_data"
    }
   ],
   "source": [
    "#visuals of most method of payment used\n",
    "tesla['Purchase_type'].value_counts().plot(kind='bar', figsize=(6,4))\n",
    "plt.title('Method of payment')"
   ]
  },
  {
   "cell_type": "code",
   "execution_count": 40,
   "id": "1b0457ea",
   "metadata": {
    "scrolled": true
   },
   "outputs": [
    {
     "data": {
      "text/plain": [
       "Text(0.5, 1.0, 'Purchase type by Gross profit')"
      ]
     },
     "execution_count": 40,
     "metadata": {},
     "output_type": "execute_result"
    },
    {
     "data": {
      "image/png": "[encoded data removed]",
      "text/plain": [
       "<Figure size 600x300 with 1 Axes>"
      ]
     },
     "metadata": {},
     "output_type": "display_data"
    }
   ],
   "source": [
    "#visuals of Purchase type by Gross profit\n",
    "plt.figure(figsize=(6,3))\n",
    "sns.barplot(x='Purchase_type',y='Gross_Profit',data=tesla)\n",
    "plt.title(\"Purchase type by Gross profit\")"
   ]
  },
  {
   "cell_type": "code",
   "execution_count": 41,
   "id": "60d3673f",
   "metadata": {},
   "outputs": [
    {
     "data": {
      "text/plain": [
       "Text(0.5, 1.0, 'Gross Profit by Country')"
      ]
     },
     "execution_count": 41,
     "metadata": {},
     "output_type": "execute_result"
    },
    {
     "data": {
      "image/png": "[encoded data removed]",
      "text/plain": [
       "<Figure size 1000x500 with 1 Axes>"
      ]
     },
     "metadata": {},
     "output_type": "display_data"
    }
   ],
   "source": [
    "#countries with the most sales\n",
    "plt.figure(figsize=(10,5))\n",
    "sns.barplot(x='Country',y='Gross_Profit',data=tesla)\n",
    "plt.title(\"Gross Profit by Country\")"
   ]
  },
  {
   "cell_type": "code",
   "execution_count": 42,
   "id": "cacc1c5b",
   "metadata": {},
   "outputs": [
    {
     "data": {
      "text/plain": [
       "Text(0.5, 1.0, 'Country most profit made, Divided by Purchase type')"
      ]
     },
     "execution_count": 42,
     "metadata": {},
     "output_type": "execute_result"
    },
    {
     "data": {
      "image/png": "[encoded data removed]",
      "text/plain": [
       "<Figure size 1000x500 with 1 Axes>"
      ]
     },
     "metadata": {},
     "output_type": "display_data"
    }
   ],
   "source": [
    "plt.figure(figsize=(10,5))\n",
    "sns.barplot(x='Country',y='Gross_Profit',data=tesla, palette='rainbow', hue='Purchase_type')\n",
    "plt.title(\"Country most profit made, Divided by Purchase type\")"
   ]
  },
  {
   "cell_type": "code",
   "execution_count": 43,
   "id": "fb88c336",
   "metadata": {},
   "outputs": [
    {
     "data": {
      "text/plain": [
       "Text(0.5, 1.0, 'Distribution of Age by Passenger Class')"
      ]
     },
     "execution_count": 43,
     "metadata": {},
     "output_type": "execute_result"
    },
    {
     "data": {
      "image/png": "[encoded data removed]",
      "text/plain": [
       "<Figure size 1000x800 with 1 Axes>"
      ]
     },
     "metadata": {},
     "output_type": "display_data"
    }
   ],
   "source": [
    "plt.figure(figsize=(10,8))\n",
    "sns.barplot(x='Year', y='Gross_Profit', data=tesla)\n",
    "plt.title(\"Distribution of Age by Passenger Class\")"
   ]
  },
  {
   "cell_type": "code",
   "execution_count": 44,
   "id": "c9207b20",
   "metadata": {},
   "outputs": [
    {
     "data": {
      "text/plain": [
       "Text(0.5, 1.0, 'Distribution of Age by Passenger Class')"
      ]
     },
     "execution_count": 44,
     "metadata": {},
     "output_type": "execute_result"
    },
    {
     "data": {
      "image/png": "[encoded data removed]",
      "text/plain": [
       "<Figure size 1000x800 with 1 Axes>"
      ]
     },
     "metadata": {},
     "output_type": "display_data"
    }
   ],
   "source": [
    "plt.figure(figsize=(10,8))\n",
    "sns.barplot(x='Model', y='Gross_Profit', data=tesla)\n",
    "plt.title(\"Distribution of Age by Passenger Class\")"
   ]
  },
  {
   "cell_type": "markdown",
   "id": "d2154e96",
   "metadata": {},
   "source": [
    "<a id='conclusions'></a>\n",
    "## Conclusions\n",
    "\n",
    "#### The findings of the analysis is listed below\n",
    ">\n",
    ">More Model X was sold than Model S\n",
    ">\n",
    ">908 units of cars was sold more in 2016\n",
    ">\n",
    ">US sold more units of tesla cars \n",
    ">\n",
    ">Customers prefer to deposit than cash purchase \n",
    ">\n",
    ">Model X version P90D was sold more than any model version\n",
    ">\n",
    ">Most sales was during 2016\n",
    ">\n",
    ">Model X generated more profit\n",
    ">\n",
    ">US made more profit compared to other countries"
   ]
  }
 ],
 "metadata": {
  "kernelspec": {
   "display_name": "Python 3 (ipykernel)",
   "language": "python",
   "name": "python3"
  },
  "language_info": {
   "codemirror_mode": {
    "name": "ipython",
    "version": 3
   },
   "file_extension": ".py",
   "mimetype": "text/x-python",
   "name": "python",
   "nbconvert_exporter": "python",
   "pygments_lexer": "ipython3",
   "version": "3.9.13"
  }
 },
 "nbformat": 4,
 "nbformat_minor": 5
}
